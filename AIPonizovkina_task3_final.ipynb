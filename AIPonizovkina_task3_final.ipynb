{
 "cells": [
  {
   "cell_type": "markdown",
   "id": "49d32718",
   "metadata": {
    "toc": true
   },
   "source": [
    "<h1>Table of Contents<span class=\"tocSkip\"></span></h1>\n",
    "<div class=\"toc\"><ul class=\"toc-item\"><li><span><a href=\"#Проверка-и-предобработка\" data-toc-modified-id=\"Проверка-и-предобработка-1\"><span class=\"toc-item-num\">1&nbsp;&nbsp;</span>Проверка и предобработка</a></span></li><li><span><a href=\"#Добавление-информации-о-принадлежности-к-брендовой-рекламной-кампании\" data-toc-modified-id=\"Добавление-информации-о-принадлежности-к-брендовой-рекламной-кампании-2\"><span class=\"toc-item-num\">2&nbsp;&nbsp;</span>Добавление информации о принадлежности к брендовой рекламной кампании</a></span></li><li><span><a href=\"#Добавление-столбца-суммы-позиций\" data-toc-modified-id=\"Добавление-столбца-суммы-позиций-3\"><span class=\"toc-item-num\">3&nbsp;&nbsp;</span>Добавление столбца суммы позиций</a></span></li><li><span><a href=\"#Средняя-позиция-показа-рекламного-объявления,-взвешенная-по-числу-показов\" data-toc-modified-id=\"Средняя-позиция-показа-рекламного-объявления,-взвешенная-по-числу-показов-4\"><span class=\"toc-item-num\">4&nbsp;&nbsp;</span>Средняя позиция показа рекламного объявления, взвешенная по числу показов</a></span><ul class=\"toc-item\"><li><span><a href=\"#Функция-для-расчета-средневзвешенной-позиции-показа-объявления\" data-toc-modified-id=\"Функция-для-расчета-средневзвешенной-позиции-показа-объявления-4.1\"><span class=\"toc-item-num\">4.1&nbsp;&nbsp;</span>Функция для расчета средневзвешенной позиции показа объявления</a></span></li><li><span><a href=\"#Получение-средних-позиций-показа-по-срезам\" data-toc-modified-id=\"Получение-средних-позиций-показа-по-срезам-4.2\"><span class=\"toc-item-num\">4.2&nbsp;&nbsp;</span>Получение средних позиций показа по срезам</a></span><ul class=\"toc-item\"><li><span><a href=\"#Все-кампании:\" data-toc-modified-id=\"Все-кампании:-4.2.1\"><span class=\"toc-item-num\">4.2.1&nbsp;&nbsp;</span>Все кампании:</a></span></li><li><span><a href=\"#Брендовые-кампании:\" data-toc-modified-id=\"Брендовые-кампании:-4.2.2\"><span class=\"toc-item-num\">4.2.2&nbsp;&nbsp;</span>Брендовые кампании:</a></span></li><li><span><a href=\"#Не-брендовые-кампании:\" data-toc-modified-id=\"Не-брендовые-кампании:-4.2.3\"><span class=\"toc-item-num\">4.2.3&nbsp;&nbsp;</span>Не брендовые кампании:</a></span></li></ul></li></ul></li><li><span><a href=\"#Получение-доли-показов-рекламных-объявлений-по-позициям\" data-toc-modified-id=\"Получение-доли-показов-рекламных-объявлений-по-позициям-5\"><span class=\"toc-item-num\">5&nbsp;&nbsp;</span>Получение доли показов рекламных объявлений по позициям</a></span><ul class=\"toc-item\"><li><span><a href=\"#Все-кампании\" data-toc-modified-id=\"Все-кампании-5.1\"><span class=\"toc-item-num\">5.1&nbsp;&nbsp;</span>Все кампании</a></span></li><li><span><a href=\"#Брендовые-кампании\" data-toc-modified-id=\"Брендовые-кампании-5.2\"><span class=\"toc-item-num\">5.2&nbsp;&nbsp;</span>Брендовые кампании</a></span></li><li><span><a href=\"#Не-брендовые-кампании\" data-toc-modified-id=\"Не-брендовые-кампании-5.3\"><span class=\"toc-item-num\">5.3&nbsp;&nbsp;</span>Не брендовые кампании</a></span></li></ul></li><li><span><a href=\"#Итоговые-таблицы-показателей\" data-toc-modified-id=\"Итоговые-таблицы-показателей-6\"><span class=\"toc-item-num\">6&nbsp;&nbsp;</span>Итоговые таблицы показателей</a></span></li><li><span><a href=\"#Визуализации-для-слайда\" data-toc-modified-id=\"Визуализации-для-слайда-7\"><span class=\"toc-item-num\">7&nbsp;&nbsp;</span>Визуализации для слайда</a></span><ul class=\"toc-item\"><li><span><a href=\"#Все-кампании\" data-toc-modified-id=\"Все-кампании-7.1\"><span class=\"toc-item-num\">7.1&nbsp;&nbsp;</span>Все кампании</a></span></li><li><span><a href=\"#Брендовые-кампании\" data-toc-modified-id=\"Брендовые-кампании-7.2\"><span class=\"toc-item-num\">7.2&nbsp;&nbsp;</span>Брендовые кампании</a></span></li><li><span><a href=\"#Не-брендовые-кампании\" data-toc-modified-id=\"Не-брендовые-кампании-7.3\"><span class=\"toc-item-num\">7.3&nbsp;&nbsp;</span>Не брендовые кампании</a></span></li></ul></li><li><span><a href=\"#Результаты\" data-toc-modified-id=\"Результаты-8\"><span class=\"toc-item-num\">8&nbsp;&nbsp;</span>Результаты</a></span></li></ul></div>"
   ]
  },
  {
   "cell_type": "markdown",
   "id": "7ca35016",
   "metadata": {},
   "source": [
    "# Задача 3 - Показы рекламного объявления\n",
    "- необходимо составить слайд, иллюстрирующий результаты маркетологов в части повышения видимости рекламы\n",
    "- основная информация на слайде будет состоять из % показов рекламного объявления на позиции ТОП-1 и ТОП-3 для:\n",
    "    - брендовых рекламных кампаний\n",
    "    - не брендовых рекламных кампаний\n",
    "    - общий для всех рекламных кампаний"
   ]
  },
  {
   "cell_type": "code",
   "execution_count": 2,
   "id": "7379cde3",
   "metadata": {},
   "outputs": [],
   "source": [
    "import pandas as pd\n",
    "import re\n",
    "import numpy as np\n",
    "from scipy import stats as st\n",
    "from matplotlib import pyplot as plt\n",
    "import seaborn as sns"
   ]
  },
  {
   "cell_type": "code",
   "execution_count": 3,
   "id": "5add77a6",
   "metadata": {},
   "outputs": [],
   "source": [
    "pd.options.display.float_format = '{:.2f}'.format"
   ]
  },
  {
   "cell_type": "code",
   "execution_count": 4,
   "id": "8f5cfe7f",
   "metadata": {},
   "outputs": [],
   "source": [
    "pd.set_option('max_colwidth', 200)"
   ]
  },
  {
   "cell_type": "code",
   "execution_count": 5,
   "id": "41bd6126",
   "metadata": {},
   "outputs": [],
   "source": [
    "data = pd.read_excel('dataset_task3.xlsx') "
   ]
  },
  {
   "cell_type": "markdown",
   "id": "75879fe4",
   "metadata": {},
   "source": [
    "## Проверка и предобработка"
   ]
  },
  {
   "cell_type": "code",
   "execution_count": 6,
   "id": "fff90032",
   "metadata": {},
   "outputs": [
    {
     "data": {
      "text/html": [
       "<div>\n",
       "<style scoped>\n",
       "    .dataframe tbody tr th:only-of-type {\n",
       "        vertical-align: middle;\n",
       "    }\n",
       "\n",
       "    .dataframe tbody tr th {\n",
       "        vertical-align: top;\n",
       "    }\n",
       "\n",
       "    .dataframe thead th {\n",
       "        text-align: right;\n",
       "    }\n",
       "</style>\n",
       "<table border=\"1\" class=\"dataframe\">\n",
       "  <thead>\n",
       "    <tr style=\"text-align: right;\">\n",
       "      <th></th>\n",
       "      <th>Дата</th>\n",
       "      <th>Кампания</th>\n",
       "      <th>№ Кампании</th>\n",
       "      <th>Показы</th>\n",
       "      <th>Ср. позиция показов</th>\n",
       "    </tr>\n",
       "  </thead>\n",
       "  <tbody>\n",
       "    <tr>\n",
       "      <th>0</th>\n",
       "      <td>янв 2022</td>\n",
       "      <td>o-a_corporate_perform_god_20220100016_context_search_brand_srb_yxprrko</td>\n",
       "      <td>69149644</td>\n",
       "      <td>4442</td>\n",
       "      <td>1.10</td>\n",
       "    </tr>\n",
       "    <tr>\n",
       "      <th>1</th>\n",
       "      <td>янв 2022</td>\n",
       "      <td>o-a_corporate_perform_god_20220100016_context_search_brand_url_yxprrko</td>\n",
       "      <td>69149675</td>\n",
       "      <td>2692</td>\n",
       "      <td>1.04</td>\n",
       "    </tr>\n",
       "    <tr>\n",
       "      <th>2</th>\n",
       "      <td>янв 2022</td>\n",
       "      <td>o-a_corporate_perform_god_20220100016_context_search_brand_cch_yxprrko</td>\n",
       "      <td>69149701</td>\n",
       "      <td>1382</td>\n",
       "      <td>1.06</td>\n",
       "    </tr>\n",
       "    <tr>\n",
       "      <th>3</th>\n",
       "      <td>янв 2022</td>\n",
       "      <td>o-a_corporate_perform_god_20220100016_context_search_general_szb_yxprrko</td>\n",
       "      <td>69149723</td>\n",
       "      <td>9006</td>\n",
       "      <td>1.24</td>\n",
       "    </tr>\n",
       "    <tr>\n",
       "      <th>4</th>\n",
       "      <td>янв 2022</td>\n",
       "      <td>o-a_corporate_perform_god_20220100016_context_search_brand_msk_yxprrko</td>\n",
       "      <td>69149760</td>\n",
       "      <td>7365</td>\n",
       "      <td>1.24</td>\n",
       "    </tr>\n",
       "  </tbody>\n",
       "</table>\n",
       "</div>"
      ],
      "text/plain": [
       "       Дата  \\\n",
       "0  янв 2022   \n",
       "1  янв 2022   \n",
       "2  янв 2022   \n",
       "3  янв 2022   \n",
       "4  янв 2022   \n",
       "\n",
       "                                                                   Кампания  \\\n",
       "0    o-a_corporate_perform_god_20220100016_context_search_brand_srb_yxprrko   \n",
       "1    o-a_corporate_perform_god_20220100016_context_search_brand_url_yxprrko   \n",
       "2    o-a_corporate_perform_god_20220100016_context_search_brand_cch_yxprrko   \n",
       "3  o-a_corporate_perform_god_20220100016_context_search_general_szb_yxprrko   \n",
       "4    o-a_corporate_perform_god_20220100016_context_search_brand_msk_yxprrko   \n",
       "\n",
       "   № Кампании  Показы  Ср. позиция показов  \n",
       "0    69149644    4442                 1.10  \n",
       "1    69149675    2692                 1.04  \n",
       "2    69149701    1382                 1.06  \n",
       "3    69149723    9006                 1.24  \n",
       "4    69149760    7365                 1.24  "
      ]
     },
     "execution_count": 6,
     "metadata": {},
     "output_type": "execute_result"
    }
   ],
   "source": [
    "data.head()"
   ]
  },
  {
   "cell_type": "markdown",
   "id": "cbce938b",
   "metadata": {},
   "source": [
    "Для удобства столбы переименуем:"
   ]
  },
  {
   "cell_type": "code",
   "execution_count": 7,
   "id": "a49ab8e8",
   "metadata": {},
   "outputs": [],
   "source": [
    "names_dict = dict(zip(list(data.columns), ['date', 'campaign', 'camp_nb', 'impressions', 'avg_position']))\n",
    "data = data.rename(columns=names_dict)"
   ]
  },
  {
   "cell_type": "code",
   "execution_count": 8,
   "id": "8b85f70f",
   "metadata": {},
   "outputs": [
    {
     "name": "stdout",
     "output_type": "stream",
     "text": [
      "<class 'pandas.core.frame.DataFrame'>\n",
      "RangeIndex: 64 entries, 0 to 63\n",
      "Data columns (total 5 columns):\n",
      " #   Column        Non-Null Count  Dtype  \n",
      "---  ------        --------------  -----  \n",
      " 0   date          64 non-null     object \n",
      " 1   campaign      64 non-null     object \n",
      " 2   camp_nb       64 non-null     int64  \n",
      " 3   impressions   64 non-null     int64  \n",
      " 4   avg_position  64 non-null     float64\n",
      "dtypes: float64(1), int64(2), object(2)\n",
      "memory usage: 2.1+ KB\n"
     ]
    }
   ],
   "source": [
    "data.info()"
   ]
  },
  {
   "cell_type": "markdown",
   "id": "3234000b",
   "metadata": {},
   "source": [
    "Пропусков нет. Столбец с датой приведем к типу datetime:"
   ]
  },
  {
   "cell_type": "code",
   "execution_count": 9,
   "id": "2cbffeca",
   "metadata": {},
   "outputs": [],
   "source": [
    "months = dict(zip(list(data['date'].unique()), ['01-2022', '02-2022', '03-2022']))\n",
    "data['date'] = data['date'].map(months).astype('datetime64[ns]')"
   ]
  },
  {
   "cell_type": "markdown",
   "id": "03944a9c",
   "metadata": {},
   "source": [
    " "
   ]
  },
  {
   "cell_type": "code",
   "execution_count": 10,
   "id": "7884bbe9",
   "metadata": {},
   "outputs": [
    {
     "name": "stdout",
     "output_type": "stream",
     "text": [
      "Дубликаты - 0\n"
     ]
    }
   ],
   "source": [
    "print('Дубликаты -', data.duplicated().sum())"
   ]
  },
  {
   "cell_type": "markdown",
   "id": "d54190ee",
   "metadata": {},
   "source": [
    "## Добавление информации о принадлежности к брендовой рекламной кампании\n",
    "Чтобы отметить, брендовая рекламная кампания или нет, создадим новый столбец, в который внесем данную информацию. Проверим наличие подстроки \"brand\" в названиях рекламных кампаний:"
   ]
  },
  {
   "cell_type": "code",
   "execution_count": 11,
   "id": "df3a1113",
   "metadata": {},
   "outputs": [],
   "source": [
    "data['is_brand'] = data['campaign'].apply(\n",
    "    lambda x: True if re.match(r'.*brand.*', str(x).lower()) else False\n",
    ")"
   ]
  },
  {
   "cell_type": "code",
   "execution_count": 12,
   "id": "98b24855",
   "metadata": {},
   "outputs": [
    {
     "data": {
      "text/html": [
       "<div>\n",
       "<style scoped>\n",
       "    .dataframe tbody tr th:only-of-type {\n",
       "        vertical-align: middle;\n",
       "    }\n",
       "\n",
       "    .dataframe tbody tr th {\n",
       "        vertical-align: top;\n",
       "    }\n",
       "\n",
       "    .dataframe thead th {\n",
       "        text-align: right;\n",
       "    }\n",
       "</style>\n",
       "<table border=\"1\" class=\"dataframe\">\n",
       "  <thead>\n",
       "    <tr style=\"text-align: right;\">\n",
       "      <th></th>\n",
       "      <th>date</th>\n",
       "      <th>campaign</th>\n",
       "      <th>camp_nb</th>\n",
       "      <th>impressions</th>\n",
       "      <th>avg_position</th>\n",
       "      <th>is_brand</th>\n",
       "    </tr>\n",
       "  </thead>\n",
       "  <tbody>\n",
       "    <tr>\n",
       "      <th>0</th>\n",
       "      <td>2022-01-01</td>\n",
       "      <td>o-a_corporate_perform_god_20220100016_context_search_brand_srb_yxprrko</td>\n",
       "      <td>69149644</td>\n",
       "      <td>4442</td>\n",
       "      <td>1.10</td>\n",
       "      <td>True</td>\n",
       "    </tr>\n",
       "    <tr>\n",
       "      <th>1</th>\n",
       "      <td>2022-01-01</td>\n",
       "      <td>o-a_corporate_perform_god_20220100016_context_search_brand_url_yxprrko</td>\n",
       "      <td>69149675</td>\n",
       "      <td>2692</td>\n",
       "      <td>1.04</td>\n",
       "      <td>True</td>\n",
       "    </tr>\n",
       "    <tr>\n",
       "      <th>2</th>\n",
       "      <td>2022-01-01</td>\n",
       "      <td>o-a_corporate_perform_god_20220100016_context_search_brand_cch_yxprrko</td>\n",
       "      <td>69149701</td>\n",
       "      <td>1382</td>\n",
       "      <td>1.06</td>\n",
       "      <td>True</td>\n",
       "    </tr>\n",
       "    <tr>\n",
       "      <th>3</th>\n",
       "      <td>2022-01-01</td>\n",
       "      <td>o-a_corporate_perform_god_20220100016_context_search_general_szb_yxprrko</td>\n",
       "      <td>69149723</td>\n",
       "      <td>9006</td>\n",
       "      <td>1.24</td>\n",
       "      <td>False</td>\n",
       "    </tr>\n",
       "    <tr>\n",
       "      <th>4</th>\n",
       "      <td>2022-01-01</td>\n",
       "      <td>o-a_corporate_perform_god_20220100016_context_search_brand_msk_yxprrko</td>\n",
       "      <td>69149760</td>\n",
       "      <td>7365</td>\n",
       "      <td>1.24</td>\n",
       "      <td>True</td>\n",
       "    </tr>\n",
       "  </tbody>\n",
       "</table>\n",
       "</div>"
      ],
      "text/plain": [
       "        date  \\\n",
       "0 2022-01-01   \n",
       "1 2022-01-01   \n",
       "2 2022-01-01   \n",
       "3 2022-01-01   \n",
       "4 2022-01-01   \n",
       "\n",
       "                                                                   campaign  \\\n",
       "0    o-a_corporate_perform_god_20220100016_context_search_brand_srb_yxprrko   \n",
       "1    o-a_corporate_perform_god_20220100016_context_search_brand_url_yxprrko   \n",
       "2    o-a_corporate_perform_god_20220100016_context_search_brand_cch_yxprrko   \n",
       "3  o-a_corporate_perform_god_20220100016_context_search_general_szb_yxprrko   \n",
       "4    o-a_corporate_perform_god_20220100016_context_search_brand_msk_yxprrko   \n",
       "\n",
       "    camp_nb  impressions  avg_position  is_brand  \n",
       "0  69149644         4442          1.10      True  \n",
       "1  69149675         2692          1.04      True  \n",
       "2  69149701         1382          1.06      True  \n",
       "3  69149723         9006          1.24     False  \n",
       "4  69149760         7365          1.24      True  "
      ]
     },
     "execution_count": 12,
     "metadata": {},
     "output_type": "execute_result"
    }
   ],
   "source": [
    "data.head()"
   ]
  },
  {
   "cell_type": "markdown",
   "id": "8b2e74a1",
   "metadata": {},
   "source": [
    "## Добавление столбца суммы позиций\n",
    "Чтобы вычислить сумму позиций по каждой кампании (сумма всех позиций, на которых были показы рекламного объявления), найдем произведение числа показов и средней позиции показа:\n",
    "\n",
    "`impressions * avg_position`"
   ]
  },
  {
   "cell_type": "code",
   "execution_count": 13,
   "id": "dffe637a",
   "metadata": {},
   "outputs": [],
   "source": [
    "data['positions_sum'] = data['impressions'] * data['avg_position']"
   ]
  },
  {
   "cell_type": "code",
   "execution_count": 14,
   "id": "17c23d9c",
   "metadata": {},
   "outputs": [
    {
     "data": {
      "text/html": [
       "<div>\n",
       "<style scoped>\n",
       "    .dataframe tbody tr th:only-of-type {\n",
       "        vertical-align: middle;\n",
       "    }\n",
       "\n",
       "    .dataframe tbody tr th {\n",
       "        vertical-align: top;\n",
       "    }\n",
       "\n",
       "    .dataframe thead th {\n",
       "        text-align: right;\n",
       "    }\n",
       "</style>\n",
       "<table border=\"1\" class=\"dataframe\">\n",
       "  <thead>\n",
       "    <tr style=\"text-align: right;\">\n",
       "      <th></th>\n",
       "      <th>date</th>\n",
       "      <th>campaign</th>\n",
       "      <th>camp_nb</th>\n",
       "      <th>impressions</th>\n",
       "      <th>avg_position</th>\n",
       "      <th>is_brand</th>\n",
       "      <th>positions_sum</th>\n",
       "    </tr>\n",
       "  </thead>\n",
       "  <tbody>\n",
       "    <tr>\n",
       "      <th>0</th>\n",
       "      <td>2022-01-01</td>\n",
       "      <td>o-a_corporate_perform_god_20220100016_context_search_brand_srb_yxprrko</td>\n",
       "      <td>69149644</td>\n",
       "      <td>4442</td>\n",
       "      <td>1.10</td>\n",
       "      <td>True</td>\n",
       "      <td>4886.20</td>\n",
       "    </tr>\n",
       "    <tr>\n",
       "      <th>1</th>\n",
       "      <td>2022-01-01</td>\n",
       "      <td>o-a_corporate_perform_god_20220100016_context_search_brand_url_yxprrko</td>\n",
       "      <td>69149675</td>\n",
       "      <td>2692</td>\n",
       "      <td>1.04</td>\n",
       "      <td>True</td>\n",
       "      <td>2799.68</td>\n",
       "    </tr>\n",
       "    <tr>\n",
       "      <th>2</th>\n",
       "      <td>2022-01-01</td>\n",
       "      <td>o-a_corporate_perform_god_20220100016_context_search_brand_cch_yxprrko</td>\n",
       "      <td>69149701</td>\n",
       "      <td>1382</td>\n",
       "      <td>1.06</td>\n",
       "      <td>True</td>\n",
       "      <td>1464.92</td>\n",
       "    </tr>\n",
       "    <tr>\n",
       "      <th>3</th>\n",
       "      <td>2022-01-01</td>\n",
       "      <td>o-a_corporate_perform_god_20220100016_context_search_general_szb_yxprrko</td>\n",
       "      <td>69149723</td>\n",
       "      <td>9006</td>\n",
       "      <td>1.24</td>\n",
       "      <td>False</td>\n",
       "      <td>11167.44</td>\n",
       "    </tr>\n",
       "    <tr>\n",
       "      <th>4</th>\n",
       "      <td>2022-01-01</td>\n",
       "      <td>o-a_corporate_perform_god_20220100016_context_search_brand_msk_yxprrko</td>\n",
       "      <td>69149760</td>\n",
       "      <td>7365</td>\n",
       "      <td>1.24</td>\n",
       "      <td>True</td>\n",
       "      <td>9132.60</td>\n",
       "    </tr>\n",
       "  </tbody>\n",
       "</table>\n",
       "</div>"
      ],
      "text/plain": [
       "        date  \\\n",
       "0 2022-01-01   \n",
       "1 2022-01-01   \n",
       "2 2022-01-01   \n",
       "3 2022-01-01   \n",
       "4 2022-01-01   \n",
       "\n",
       "                                                                   campaign  \\\n",
       "0    o-a_corporate_perform_god_20220100016_context_search_brand_srb_yxprrko   \n",
       "1    o-a_corporate_perform_god_20220100016_context_search_brand_url_yxprrko   \n",
       "2    o-a_corporate_perform_god_20220100016_context_search_brand_cch_yxprrko   \n",
       "3  o-a_corporate_perform_god_20220100016_context_search_general_szb_yxprrko   \n",
       "4    o-a_corporate_perform_god_20220100016_context_search_brand_msk_yxprrko   \n",
       "\n",
       "    camp_nb  impressions  avg_position  is_brand  positions_sum  \n",
       "0  69149644         4442          1.10      True        4886.20  \n",
       "1  69149675         2692          1.04      True        2799.68  \n",
       "2  69149701         1382          1.06      True        1464.92  \n",
       "3  69149723         9006          1.24     False       11167.44  \n",
       "4  69149760         7365          1.24      True        9132.60  "
      ]
     },
     "execution_count": 14,
     "metadata": {},
     "output_type": "execute_result"
    }
   ],
   "source": [
    "data.head()"
   ]
  },
  {
   "cell_type": "markdown",
   "id": "01fae73b",
   "metadata": {},
   "source": [
    "## Средняя позиция показа рекламного объявления, взвешенная по числу показов\n",
    "Чтобы вычислить средние позиции показа объявлений по месяцам или по кампаниям бренд/не_бренд, нельзя просто взять среднее (mean) по их avg_position - так мы получим *среднее от среднего*, а это неправильно отражает *общее* среднее значение. \n",
    "\n",
    "Поэтому вычислим средневзвешенную позицию - разделим сумму по столбцу \"сумма позиций\" на сумму количества показов `∑(positions_sum) / impressions`.\n",
    "\n",
    "Расчет будет по срезам:\n",
    "- все кампании:\n",
    "    - за все время\n",
    "    - для каждого месяца отдельно <span style=\"color:#b3b3b3\">(отразит динамику изменений)</span>\n",
    "    \n",
    "    \n",
    "- брендовые кампании:\n",
    "    - за все время\n",
    "    - для каждого месяца отдельно\n",
    "    \n",
    "    \n",
    "- не брендовые кампании:\n",
    "    - за все время\n",
    "    - для каждого месяца отдельно"
   ]
  },
  {
   "cell_type": "markdown",
   "id": "88fe7c85",
   "metadata": {},
   "source": [
    "### Функция для расчета средневзвешенной позиции показа объявления"
   ]
  },
  {
   "cell_type": "code",
   "execution_count": 15,
   "id": "44547da6",
   "metadata": {},
   "outputs": [],
   "source": [
    "def make_df_slice(df, **kwargs):\n",
    "    if 'month' in kwargs and 'brand' in kwargs:\n",
    "        df = df.query('date.dt.month == @kwargs[\"month\"] and is_brand == @kwargs[\"brand\"]')\n",
    "    elif 'month' in kwargs or 'brand' in kwargs:\n",
    "        if 'month' in kwargs:\n",
    "            df = df.query('date.dt.month == @kwargs[\"month\"]')\n",
    "        else:\n",
    "            df = df.query('is_brand == @kwargs[\"brand\"]')\n",
    "    return df"
   ]
  },
  {
   "cell_type": "code",
   "execution_count": 16,
   "id": "ccd8405a",
   "metadata": {},
   "outputs": [],
   "source": [
    "def weighted_avg_calculate(df, **kwargs):\n",
    "    df = make_df_slice(df, **kwargs)\n",
    "    return df['positions_sum'].sum() / df['impressions'].sum()"
   ]
  },
  {
   "cell_type": "markdown",
   "id": "d58612e7",
   "metadata": {},
   "source": [
    "### Получение средних позиций показа по срезам"
   ]
  },
  {
   "cell_type": "markdown",
   "id": "b5f8bab3",
   "metadata": {},
   "source": [
    "#### Все кампании:"
   ]
  },
  {
   "cell_type": "code",
   "execution_count": 17,
   "id": "e5de8180",
   "metadata": {},
   "outputs": [],
   "source": [
    "wavg_overall_total = weighted_avg_calculate(data)\n",
    "wavg_overall_jan = weighted_avg_calculate(data, month=1)\n",
    "wavg_overall_feb = weighted_avg_calculate(data, month=2)\n",
    "wavg_overall_mar = weighted_avg_calculate(data, month=3)"
   ]
  },
  {
   "cell_type": "code",
   "execution_count": 18,
   "id": "bd572d76",
   "metadata": {},
   "outputs": [
    {
     "name": "stdout",
     "output_type": "stream",
     "text": [
      "\n",
      "    ВСЕ КАМПАНИИ (бренд + не бренд)\n",
      "    средневзвешенная позиция показа рекламного объявления:\n",
      "        - январь\t2.61\n",
      "        - февраль\t2.89\n",
      "        - март\t\t1.26\n",
      "        \n",
      "    за все время\t2.56\n",
      "    \n"
     ]
    }
   ],
   "source": [
    "print(\n",
    "    f'''\n",
    "    ВСЕ КАМПАНИИ (бренд + не бренд)\n",
    "    средневзвешенная позиция показа рекламного объявления:\n",
    "        - январь\\t{wavg_overall_jan:.2f}\n",
    "        - февраль\\t{wavg_overall_feb:.2f}\n",
    "        - март\\t\\t{wavg_overall_mar:.2f}\n",
    "        \n",
    "    за все время\\t{wavg_overall_total:.2f}\n",
    "    '''\n",
    ")"
   ]
  },
  {
   "cell_type": "markdown",
   "id": "4dd79a32",
   "metadata": {},
   "source": [
    "#### Брендовые кампании:"
   ]
  },
  {
   "cell_type": "code",
   "execution_count": 19,
   "id": "26f353d3",
   "metadata": {
    "scrolled": true
   },
   "outputs": [],
   "source": [
    "wavg_brand_total = weighted_avg_calculate(data, brand=True)\n",
    "wavg_brand_jan = weighted_avg_calculate(data, brand=True, month=1)\n",
    "wavg_brand_feb = weighted_avg_calculate(data, brand=True, month=2)\n",
    "wavg_brand_mar = weighted_avg_calculate(data, brand=True, month=3)"
   ]
  },
  {
   "cell_type": "code",
   "execution_count": 20,
   "id": "ca718efc",
   "metadata": {},
   "outputs": [
    {
     "name": "stdout",
     "output_type": "stream",
     "text": [
      "\n",
      "    БРЕНДОВЫЕ КАМПАНИИ\n",
      "    средневзвешенная позиция показа рекламного объявления:\n",
      "        - январь\t1.13\n",
      "        - февраль\t1.34\n",
      "        - март\t\t1.33\n",
      "        \n",
      "    за все время\t1.30\n",
      "    \n"
     ]
    }
   ],
   "source": [
    "print(\n",
    "    f'''\n",
    "    БРЕНДОВЫЕ КАМПАНИИ\n",
    "    средневзвешенная позиция показа рекламного объявления:\n",
    "        - январь\\t{wavg_brand_jan:.2f}\n",
    "        - февраль\\t{wavg_brand_feb:.2f}\n",
    "        - март\\t\\t{wavg_brand_mar:.2f}\n",
    "        \n",
    "    за все время\\t{wavg_brand_total:.2f}\n",
    "    '''\n",
    ")"
   ]
  },
  {
   "cell_type": "markdown",
   "id": "ed6917ac",
   "metadata": {},
   "source": [
    "#### Не брендовые кампании:"
   ]
  },
  {
   "cell_type": "code",
   "execution_count": 21,
   "id": "65f15748",
   "metadata": {},
   "outputs": [],
   "source": [
    "wavg_notbrand_total = weighted_avg_calculate(data, brand=False)\n",
    "wavg_notbrand_jan = weighted_avg_calculate(data, brand=False, month=1)\n",
    "wavg_notbrand_feb = weighted_avg_calculate(data, brand=False, month=2)\n",
    "wavg_notbrand_mar = weighted_avg_calculate(data, brand=False, month=3)"
   ]
  },
  {
   "cell_type": "code",
   "execution_count": 22,
   "id": "114a7e51",
   "metadata": {},
   "outputs": [
    {
     "name": "stdout",
     "output_type": "stream",
     "text": [
      "\n",
      "    НЕ БРЕНДОВЫЕ КАМПАНИИ\n",
      "    средневзвешенная позиция показа рекламного объявления:\n",
      "        - январь\t2.65\n",
      "        - февраль\t2.95\n",
      "        - март\t\t1.24\n",
      "        \n",
      "    за все время\t2.64\n",
      "    \n"
     ]
    }
   ],
   "source": [
    "print(\n",
    "    f'''\n",
    "    НЕ БРЕНДОВЫЕ КАМПАНИИ\n",
    "    средневзвешенная позиция показа рекламного объявления:\n",
    "        - январь\\t{wavg_notbrand_jan:.2f}\n",
    "        - февраль\\t{wavg_notbrand_feb:.2f}\n",
    "        - март\\t\\t{wavg_notbrand_mar:.2f}\n",
    "        \n",
    "    за все время\\t{wavg_notbrand_total:.2f}\n",
    "    '''\n",
    ")"
   ]
  },
  {
   "cell_type": "markdown",
   "id": "c94b7544",
   "metadata": {},
   "source": [
    " "
   ]
  },
  {
   "cell_type": "markdown",
   "id": "ede12214",
   "metadata": {},
   "source": [
    "## Получение доли показов рекламных объявлений по позициям\n",
    "Применив принципы биноминального распределения, по среднему мы можем получить вероятности и экстраполировать их на процент показов.\n",
    "- n - количество \"испытаний\" (8 позиций)\n",
    "- k - позиция показа, для которой ищем вероятность, что показы объявлений будут на этой позиции и выше\n",
    "- p - вероятность попасть в искомую позицию, в качестве вероятности выступает средняя позиция показа, нормированная на 0.1 (вероятность должна быть меньше единицы)\n",
    "\n",
    "Если k = 8 при n = 8, тогда искомая вероятность принимает значение 1.0 - 100% случаев укладывается в заданные параметры. Нас интересуют значения k = 1 и k = 3."
   ]
  },
  {
   "cell_type": "code",
   "execution_count": 23,
   "id": "de0667a3",
   "metadata": {},
   "outputs": [],
   "source": [
    "def get_share_imprtop(df, **kwargs):\n",
    "    p = weighted_avg_calculate(df, **kwargs) * 0.1\n",
    "    top1_pr = st.binom.cdf(k=1, n=8, p=p)\n",
    "    top3_pr = st.binom.cdf(k=3, n=8, p=p)\n",
    "    return top1_pr, top3_pr"
   ]
  },
  {
   "cell_type": "markdown",
   "id": "560c68db",
   "metadata": {},
   "source": [
    "### Все кампании"
   ]
  },
  {
   "cell_type": "code",
   "execution_count": 24,
   "id": "a74a23bb",
   "metadata": {},
   "outputs": [],
   "source": [
    "overall_total_top1, overall_total_top3 = get_share_imprtop(data)\n",
    "overall_jan_top1, overall_jan_top3 = get_share_imprtop(data, month=1)\n",
    "overall_feb_top1, overall_feb_top3 = get_share_imprtop(data, month=2)\n",
    "overall_mar_top1, overall_mar_top3 = get_share_imprtop(data, month=3)"
   ]
  },
  {
   "cell_type": "code",
   "execution_count": 25,
   "id": "cc253565",
   "metadata": {},
   "outputs": [
    {
     "name": "stdout",
     "output_type": "stream",
     "text": [
      "\n",
      "    ВСЕ КАМПАНИИ (бренд + не бренд)\n",
      "    средневзвешенная позиция показа и % показов на позиции ТОП-1 и ТОП-3:\n",
      "\n",
      "        - ср. позиция январь\t2.61 | показы ТОП-1\t33.94% | показы ТОП-3\t86.98%\n",
      "        - ср. позиция февраль\t2.89 | показы ТОП-1\t27.70% | показы ТОП-3\t82.49%\n",
      "        - ср. позиция март\t1.26 | показы ТОП-1\t73.42% | показы ТОП-3\t98.85%\n",
      "        \n",
      "    ЗА ВСЕ ВРЕМЯ\t\t2.56 | ТОП-1\t\t35.19% | ТОП-3\t\t87.75%\n",
      "    \n"
     ]
    }
   ],
   "source": [
    "print(\n",
    "    f'''\n",
    "    ВСЕ КАМПАНИИ (бренд + не бренд)\n",
    "    средневзвешенная позиция показа и % показов на позиции ТОП-1 и ТОП-3:\\n\n",
    "        - ср. позиция январь\\t{wavg_overall_jan:.2f} | показы ТОП-1\\t{overall_jan_top1:.2%} | показы ТОП-3\\t{overall_jan_top3:.2%}\n",
    "        - ср. позиция февраль\\t{wavg_overall_feb:.2f} | показы ТОП-1\\t{overall_feb_top1:.2%} | показы ТОП-3\\t{overall_feb_top3:.2%}\n",
    "        - ср. позиция март\\t{wavg_overall_mar:.2f} | показы ТОП-1\\t{overall_mar_top1:.2%} | показы ТОП-3\\t{overall_mar_top3:.2%}\n",
    "        \n",
    "    ЗА ВСЕ ВРЕМЯ\\t\\t{wavg_overall_total:.2f} | ТОП-1\\t\\t{overall_total_top1:.2%} | ТОП-3\\t\\t{overall_total_top3:.2%}\n",
    "    '''\n",
    ")"
   ]
  },
  {
   "cell_type": "markdown",
   "id": "67d5a603",
   "metadata": {},
   "source": [
    "### Брендовые кампании"
   ]
  },
  {
   "cell_type": "code",
   "execution_count": 26,
   "id": "1914ad17",
   "metadata": {},
   "outputs": [],
   "source": [
    "brand_total_top1, brand_total_top3 = get_share_imprtop(data, brand=True)\n",
    "brand_jan_top1, brand_jan_top3 = get_share_imprtop(data, brand=True, month=1)\n",
    "brand_feb_top1, brand_feb_top3 = get_share_imprtop(data, brand=True, month=2)\n",
    "brand_mar_top1, brand_mar_top3 = get_share_imprtop(data, brand=True, month=3)"
   ]
  },
  {
   "cell_type": "code",
   "execution_count": 27,
   "id": "56e0b29e",
   "metadata": {},
   "outputs": [
    {
     "name": "stdout",
     "output_type": "stream",
     "text": [
      "\n",
      "    БРЕНДОВЫЕ КАМПАНИИ\n",
      "    средневзвешенная позиция показа и % показов на позиции ТОП-1 и ТОП-3:\n",
      "\n",
      "        - ср. позиция январь\t1.13 | показы ТОП-1\t77.43% | показы ТОП-3\t99.22%\n",
      "        - ср. позиция февраль\t1.34 | показы ТОП-1\t70.69% | показы ТОП-3\t98.55%\n",
      "        - ср. позиция март\t1.33 | показы ТОП-1\t71.02% | показы ТОП-3\t98.59%\n",
      "        \n",
      "    ЗА ВСЕ ВРЕМЯ\t\t1.30 | ТОП-1\t\t72.08% | ТОП-3\t\t98.71%\n",
      "    \n"
     ]
    }
   ],
   "source": [
    "print(\n",
    "    f'''\n",
    "    БРЕНДОВЫЕ КАМПАНИИ\n",
    "    средневзвешенная позиция показа и % показов на позиции ТОП-1 и ТОП-3:\\n\n",
    "        - ср. позиция январь\\t{wavg_brand_jan:.2f} | показы ТОП-1\\t{brand_jan_top1:.2%} | показы ТОП-3\\t{brand_jan_top3:.2%}\n",
    "        - ср. позиция февраль\\t{wavg_brand_feb:.2f} | показы ТОП-1\\t{brand_feb_top1:.2%} | показы ТОП-3\\t{brand_feb_top3:.2%}\n",
    "        - ср. позиция март\\t{wavg_brand_mar:.2f} | показы ТОП-1\\t{brand_mar_top1:.2%} | показы ТОП-3\\t{brand_mar_top3:.2%}\n",
    "        \n",
    "    ЗА ВСЕ ВРЕМЯ\\t\\t{wavg_brand_total:.2f} | ТОП-1\\t\\t{brand_total_top1:.2%} | ТОП-3\\t\\t{brand_total_top3:.2%}\n",
    "    '''\n",
    ")"
   ]
  },
  {
   "cell_type": "markdown",
   "id": "7f50f7b0",
   "metadata": {},
   "source": [
    "### Не брендовые кампании"
   ]
  },
  {
   "cell_type": "code",
   "execution_count": 28,
   "id": "b1b6c561",
   "metadata": {},
   "outputs": [],
   "source": [
    "notbrand_total_top1, notbrand_total_top3 = get_share_imprtop(data, brand=False)\n",
    "notbrand_jan_top1, notbrand_jan_top3 = get_share_imprtop(data, brand=False, month=1)\n",
    "notbrand_feb_top1, notbrand_feb_top3 = get_share_imprtop(data, brand=False, month=2)\n",
    "notbrand_mar_top1, notbrand_mar_top3 = get_share_imprtop(data, brand=False, month=3)"
   ]
  },
  {
   "cell_type": "code",
   "execution_count": 29,
   "id": "0b2a732a",
   "metadata": {},
   "outputs": [
    {
     "name": "stdout",
     "output_type": "stream",
     "text": [
      "\n",
      "    НЕ БРЕНДОВЫЕ КАМПАНИИ\n",
      "    средневзвешенная позиция показа и % показов на позиции ТОП-1 и ТОП-3:\n",
      "\n",
      "        - ср. позиция январь\t2.65 | показы ТОП-1\t32.97% | показы ТОП-3\t86.37%\n",
      "        - ср. позиция февраль\t2.95 | показы ТОП-1\t26.52% | показы ТОП-3\t81.48%\n",
      "        - ср. позиция март\t1.24 | показы ТОП-1\t74.09% | показы ТОП-3\t98.92%\n",
      "        \n",
      "    ЗА ВСЕ ВРЕМЯ\t\t2.64 | ТОП-1\t\t33.36% | ТОП-3\t\t86.62%\n",
      "    \n"
     ]
    }
   ],
   "source": [
    "print(\n",
    "    f'''\n",
    "    НЕ БРЕНДОВЫЕ КАМПАНИИ\n",
    "    средневзвешенная позиция показа и % показов на позиции ТОП-1 и ТОП-3:\\n\n",
    "        - ср. позиция январь\\t{wavg_notbrand_jan:.2f} | показы ТОП-1\\t{notbrand_jan_top1:.2%} | показы ТОП-3\\t{notbrand_jan_top3:.2%}\n",
    "        - ср. позиция февраль\\t{wavg_notbrand_feb:.2f} | показы ТОП-1\\t{notbrand_feb_top1:.2%} | показы ТОП-3\\t{notbrand_feb_top3:.2%}\n",
    "        - ср. позиция март\\t{wavg_notbrand_mar:.2f} | показы ТОП-1\\t{notbrand_mar_top1:.2%} | показы ТОП-3\\t{notbrand_mar_top3:.2%}\n",
    "        \n",
    "    ЗА ВСЕ ВРЕМЯ\\t\\t{wavg_notbrand_total:.2f} | ТОП-1\\t\\t{notbrand_total_top1:.2%} | ТОП-3\\t\\t{notbrand_total_top3:.2%}\n",
    "    '''\n",
    ")"
   ]
  },
  {
   "cell_type": "markdown",
   "id": "1861d158",
   "metadata": {},
   "source": [
    "## Итоговые таблицы показателей"
   ]
  },
  {
   "cell_type": "markdown",
   "id": "c3bb163d",
   "metadata": {},
   "source": [
    "Составим таблицы для средней позиции показа и для доли показов на позициях ТОП-1 и ТОП-3."
   ]
  },
  {
   "cell_type": "markdown",
   "id": "2b53d236",
   "metadata": {},
   "source": [
    "**Средняя позиция показа**"
   ]
  },
  {
   "cell_type": "code",
   "execution_count": 30,
   "id": "00451003",
   "metadata": {},
   "outputs": [],
   "source": [
    "wavg_table = pd.DataFrame(\n",
    "    data={\n",
    "        'Jan': [wavg_brand_jan, wavg_notbrand_jan, wavg_overall_jan], \n",
    "        'Feb': [wavg_brand_feb, wavg_notbrand_feb, wavg_overall_feb], \n",
    "        'Mar': [wavg_brand_mar, wavg_notbrand_mar, wavg_overall_mar],\n",
    "        'Total': [wavg_brand_total, wavg_notbrand_total, wavg_overall_total]\n",
    "    },\n",
    "    index=['brand', 'not_brand', 'overall']\n",
    ")"
   ]
  },
  {
   "cell_type": "markdown",
   "id": "9805a131",
   "metadata": {},
   "source": [
    " "
   ]
  },
  {
   "cell_type": "code",
   "execution_count": 31,
   "id": "60c59420",
   "metadata": {},
   "outputs": [
    {
     "data": {
      "text/html": [
       "<div>\n",
       "<style scoped>\n",
       "    .dataframe tbody tr th:only-of-type {\n",
       "        vertical-align: middle;\n",
       "    }\n",
       "\n",
       "    .dataframe tbody tr th {\n",
       "        vertical-align: top;\n",
       "    }\n",
       "\n",
       "    .dataframe thead th {\n",
       "        text-align: right;\n",
       "    }\n",
       "</style>\n",
       "<table border=\"1\" class=\"dataframe\">\n",
       "  <thead>\n",
       "    <tr style=\"text-align: right;\">\n",
       "      <th></th>\n",
       "      <th>Jan</th>\n",
       "      <th>Feb</th>\n",
       "      <th>Mar</th>\n",
       "      <th>Total</th>\n",
       "    </tr>\n",
       "  </thead>\n",
       "  <tbody>\n",
       "    <tr>\n",
       "      <th>brand</th>\n",
       "      <td>1.13</td>\n",
       "      <td>1.34</td>\n",
       "      <td>1.33</td>\n",
       "      <td>1.30</td>\n",
       "    </tr>\n",
       "    <tr>\n",
       "      <th>not_brand</th>\n",
       "      <td>2.65</td>\n",
       "      <td>2.95</td>\n",
       "      <td>1.24</td>\n",
       "      <td>2.64</td>\n",
       "    </tr>\n",
       "    <tr>\n",
       "      <th>overall</th>\n",
       "      <td>2.61</td>\n",
       "      <td>2.89</td>\n",
       "      <td>1.26</td>\n",
       "      <td>2.56</td>\n",
       "    </tr>\n",
       "  </tbody>\n",
       "</table>\n",
       "</div>"
      ],
      "text/plain": [
       "           Jan  Feb  Mar  Total\n",
       "brand     1.13 1.34 1.33   1.30\n",
       "not_brand 2.65 2.95 1.24   2.64\n",
       "overall   2.61 2.89 1.26   2.56"
      ]
     },
     "execution_count": 31,
     "metadata": {},
     "output_type": "execute_result"
    }
   ],
   "source": [
    "wavg_table"
   ]
  },
  {
   "cell_type": "markdown",
   "id": "da804a36",
   "metadata": {},
   "source": [
    " "
   ]
  },
  {
   "cell_type": "markdown",
   "id": "d57de5ce",
   "metadata": {},
   "source": [
    "**Процент показов на позициях ТОП-1 и ТОП-3**"
   ]
  },
  {
   "cell_type": "code",
   "execution_count": 32,
   "id": "726932fb",
   "metadata": {},
   "outputs": [],
   "source": [
    "top_percent_table = pd.DataFrame(\n",
    "    data={\n",
    "        'Jan': [brand_jan_top1, brand_jan_top3, \n",
    "                notbrand_jan_top1, notbrand_jan_top3, \n",
    "                overall_jan_top1, overall_jan_top3], \n",
    "        'Feb': [brand_feb_top1, brand_feb_top3, \n",
    "                notbrand_feb_top1, notbrand_feb_top3,\n",
    "                overall_feb_top1, overall_feb_top3],\n",
    "        'Mar': [brand_mar_top1,brand_mar_top3, \n",
    "                notbrand_mar_top1, notbrand_mar_top3, \n",
    "                overall_mar_top1, overall_mar_top3],\n",
    "        'Total': [brand_total_top1, brand_total_top3, \n",
    "                  notbrand_total_top1, notbrand_total_top3, \n",
    "                  overall_total_top1, overall_total_top3]\n",
    "    },\n",
    "    index=[\n",
    "        ['brand','brand', 'not_brand','not_brand', 'overall','overall'], \n",
    "        ['top1', 'top3', 'top1', 'top3', 'top1', 'top3',]\n",
    "    ]\n",
    ")"
   ]
  },
  {
   "cell_type": "markdown",
   "id": "69625e83",
   "metadata": {},
   "source": [
    " "
   ]
  },
  {
   "cell_type": "code",
   "execution_count": 33,
   "id": "31297e2e",
   "metadata": {},
   "outputs": [
    {
     "data": {
      "text/html": [
       "<div>\n",
       "<style scoped>\n",
       "    .dataframe tbody tr th:only-of-type {\n",
       "        vertical-align: middle;\n",
       "    }\n",
       "\n",
       "    .dataframe tbody tr th {\n",
       "        vertical-align: top;\n",
       "    }\n",
       "\n",
       "    .dataframe thead th {\n",
       "        text-align: right;\n",
       "    }\n",
       "</style>\n",
       "<table border=\"1\" class=\"dataframe\">\n",
       "  <thead>\n",
       "    <tr style=\"text-align: right;\">\n",
       "      <th></th>\n",
       "      <th></th>\n",
       "      <th>Jan</th>\n",
       "      <th>Feb</th>\n",
       "      <th>Mar</th>\n",
       "      <th>Total</th>\n",
       "    </tr>\n",
       "  </thead>\n",
       "  <tbody>\n",
       "    <tr>\n",
       "      <th rowspan=\"2\" valign=\"top\">brand</th>\n",
       "      <th>top1</th>\n",
       "      <td>77.43%</td>\n",
       "      <td>70.69%</td>\n",
       "      <td>71.02%</td>\n",
       "      <td>72.08%</td>\n",
       "    </tr>\n",
       "    <tr>\n",
       "      <th>top3</th>\n",
       "      <td>99.22%</td>\n",
       "      <td>98.55%</td>\n",
       "      <td>98.59%</td>\n",
       "      <td>98.71%</td>\n",
       "    </tr>\n",
       "    <tr>\n",
       "      <th rowspan=\"2\" valign=\"top\">not_brand</th>\n",
       "      <th>top1</th>\n",
       "      <td>32.97%</td>\n",
       "      <td>26.52%</td>\n",
       "      <td>74.09%</td>\n",
       "      <td>33.36%</td>\n",
       "    </tr>\n",
       "    <tr>\n",
       "      <th>top3</th>\n",
       "      <td>86.37%</td>\n",
       "      <td>81.48%</td>\n",
       "      <td>98.92%</td>\n",
       "      <td>86.62%</td>\n",
       "    </tr>\n",
       "    <tr>\n",
       "      <th rowspan=\"2\" valign=\"top\">overall</th>\n",
       "      <th>top1</th>\n",
       "      <td>33.94%</td>\n",
       "      <td>27.70%</td>\n",
       "      <td>73.42%</td>\n",
       "      <td>35.19%</td>\n",
       "    </tr>\n",
       "    <tr>\n",
       "      <th>top3</th>\n",
       "      <td>86.98%</td>\n",
       "      <td>82.49%</td>\n",
       "      <td>98.85%</td>\n",
       "      <td>87.75%</td>\n",
       "    </tr>\n",
       "  </tbody>\n",
       "</table>\n",
       "</div>"
      ],
      "text/plain": [
       "                  Jan    Feb    Mar  Total\n",
       "brand     top1 77.43% 70.69% 71.02% 72.08%\n",
       "          top3 99.22% 98.55% 98.59% 98.71%\n",
       "not_brand top1 32.97% 26.52% 74.09% 33.36%\n",
       "          top3 86.37% 81.48% 98.92% 86.62%\n",
       "overall   top1 33.94% 27.70% 73.42% 35.19%\n",
       "          top3 86.98% 82.49% 98.85% 87.75%"
      ]
     },
     "execution_count": 33,
     "metadata": {},
     "output_type": "execute_result"
    }
   ],
   "source": [
    "pd.options.display.float_format = '{:.2%}'.format\n",
    "top_percent_table"
   ]
  },
  {
   "cell_type": "markdown",
   "id": "1c92ff8d",
   "metadata": {},
   "source": [
    " "
   ]
  },
  {
   "cell_type": "markdown",
   "id": "dc739364",
   "metadata": {},
   "source": [
    "Также составим вспомогательную таблицу для построения визуализаций:"
   ]
  },
  {
   "cell_type": "code",
   "execution_count": 34,
   "id": "569ff66c",
   "metadata": {},
   "outputs": [],
   "source": [
    "vis_table = pd.DataFrame(\n",
    "    data={\n",
    "        'imp_percent': [\n",
    "            brand_jan_top1, brand_jan_top3, \n",
    "            notbrand_jan_top1, notbrand_jan_top3, \n",
    "            overall_jan_top1, overall_jan_top3, \n",
    "            brand_feb_top1, brand_feb_top3, \n",
    "            notbrand_feb_top1, notbrand_feb_top3,\n",
    "            overall_feb_top1, overall_feb_top3, \n",
    "            brand_mar_top1, brand_mar_top3, \n",
    "            notbrand_mar_top1, notbrand_mar_top3, \n",
    "            overall_mar_top1, overall_mar_top3, \n",
    "            brand_total_top1, brand_total_top3, \n",
    "            notbrand_total_top1, notbrand_total_top3, \n",
    "            overall_total_top1, overall_total_top3\n",
    "        ],\n",
    "        'type': ['brand', 'brand', 'not_brand', 'not_brand',  'overall', 'overall'] * 4,\n",
    "        'top': ['top1', 'top3'] * 12,\n",
    "        'month': ['Январь'] * 6 + ['Февраль'] * 6 + ['Март'] * 6 + ['все'] * 6\n",
    "    }\n",
    ")"
   ]
  },
  {
   "cell_type": "markdown",
   "id": "bcfcf298",
   "metadata": {},
   "source": [
    "## Визуализации для слайда\n",
    "Наша задача - проиллюстрировать результаты маркетологов в части повышения видимости рекламы. \n",
    "\n",
    "Чтобы продемонстрировать результаты, следует показать динамику изменений за три месяца."
   ]
  },
  {
   "cell_type": "code",
   "execution_count": 35,
   "id": "fcf2a6d2",
   "metadata": {},
   "outputs": [],
   "source": [
    "# функция для аннотирования столбчатых диаграмм\n",
    "def annotate_ax(ax):\n",
    "    for patch in ax.patches:\n",
    "        height = patch.get_height()\n",
    "        ax.annotate(\n",
    "            text=f\"{patch.get_height():.2%}\",\n",
    "            xy=(patch.get_x() + patch.get_width() / 2, height + 0.01), \n",
    "            ha='center', \n",
    "            va='baseline',\n",
    "            fontsize=16,\n",
    "            color='#2e852e'\n",
    "        )"
   ]
  },
  {
   "cell_type": "code",
   "execution_count": 36,
   "id": "5dcc7e4f",
   "metadata": {},
   "outputs": [],
   "source": [
    "# функция для отрисовки графика\n",
    "def make_visual(df, c_type):\n",
    "    if c_type == 'brand':\n",
    "        t = 'брендовые кампании'\n",
    "    elif c_type == 'not_brand':\n",
    "        t = 'не брендовые кампании'\n",
    "    elif c_type == 'overall':\n",
    "        t = 'все кампании'\n",
    "    else:\n",
    "        t = '-'\n",
    "    plt.figure(figsize=(9, 5))\n",
    "    ax = sns.barplot(\n",
    "        data=df.query('~(month == \"все\") and (type == @c_type)'), \n",
    "        x='month', \n",
    "        y='imp_percent',\n",
    "        hue='top', \n",
    "        palette='Spectral_r'\n",
    "    )\n",
    "    annotate_ax(ax)\n",
    "    plt.title(f'Доля показов на ТОП-позициях по месяцам, {t}\\n', fontsize=16)\n",
    "    plt.legend(title='ТОП', loc='upper left')\n",
    "    plt.xlabel('месяц', fontsize=16)\n",
    "    plt.ylabel('доля показов на топ-позиции', fontsize=16)\n",
    "    plt.xticks(fontsize=16)\n",
    "    plt.yticks(np.arange(0, 1, step=0.1))\n",
    "    sns.despine()\n",
    "    plt.show()"
   ]
  },
  {
   "cell_type": "markdown",
   "id": "a17c8553",
   "metadata": {},
   "source": [
    "### Все кампании"
   ]
  },
  {
   "cell_type": "code",
   "execution_count": 37,
   "id": "eb8a6bd8",
   "metadata": {},
   "outputs": [
    {
     "data": {
      "image/png": "[encoded data removed]",
      "text/plain": [
       "<Figure size 648x360 with 1 Axes>"
      ]
     },
     "metadata": {
      "needs_background": "light"
     },
     "output_type": "display_data"
    }
   ],
   "source": [
    "make_visual(vis_table, 'overall')"
   ]
  },
  {
   "cell_type": "markdown",
   "id": "dee3e69e",
   "metadata": {},
   "source": [
    "### Брендовые кампании"
   ]
  },
  {
   "cell_type": "code",
   "execution_count": 38,
   "id": "e37b61fb",
   "metadata": {},
   "outputs": [
    {
     "data": {
      "image/png": "[encoded data removed]",
      "text/plain": [
       "<Figure size 648x360 with 1 Axes>"
      ]
     },
     "metadata": {
      "needs_background": "light"
     },
     "output_type": "display_data"
    }
   ],
   "source": [
    "make_visual(vis_table, 'brand')"
   ]
  },
  {
   "cell_type": "markdown",
   "id": "c05b6847",
   "metadata": {},
   "source": [
    "### Не брендовые кампании"
   ]
  },
  {
   "cell_type": "code",
   "execution_count": 39,
   "id": "45893906",
   "metadata": {},
   "outputs": [
    {
     "data": {
      "image/png": "[encoded data removed]",
      "text/plain": [
       "<Figure size 648x360 with 1 Axes>"
      ]
     },
     "metadata": {
      "needs_background": "light"
     },
     "output_type": "display_data"
    }
   ],
   "source": [
    "make_visual(vis_table, 'not_brand')"
   ]
  },
  {
   "cell_type": "markdown",
   "id": "77183e55",
   "metadata": {},
   "source": [
    " "
   ]
  },
  {
   "cell_type": "markdown",
   "id": "8aeb705e",
   "metadata": {},
   "source": [
    "## Результаты\n",
    "\n",
    "Мы получили средневзвешенную позицию показа рекламного объявления для каждого типа кампаний по месяцам - таблица `wavg_table`.\n",
    "\n",
    "Процент показов по типам кампаний и по месяцам хранится в таблице `top_percent_table`.\n",
    "\n",
    "Графики для процентов показов объявлений на ТОП-позициях демонстрируют:\n",
    "- в целом для брендовых кампаний доля показов на ТОП-1 и ТОП-3 позициях выше, чем для не брендовых, кроме марта\n",
    "\n",
    "\n",
    "- в январе наблюдалась самая высокая доля ТОП-1 и ТОП-3 показов для брендовых кампаний, а у не брендовых и всех кампаний в целом самая большая доля ТОП-1 и ТОП-3 показов - в марте\n",
    "\n",
    "\n",
    "- в марте процент ТОП-1 и ТОП-3 показов не брендовых кампаний обогнал аналогичные показатели брендовых кампаний, и это согласуется c их средними позициями показов (в марте средняя позиция показа брендовых кампаний - 1.33, не брендовых - 1.24) \n",
    "\n",
    "\n",
    "- доля ТОП-показов (как ТОП-1, так и ТОП-3) для брендовых кампаний относительно устойчива (если сравнивать с не брендовыми и со всеми кампаниями в целом)"
   ]
  }
 ],
 "metadata": {
  "kernelspec": {
   "display_name": "Python 3",
   "language": "python",
   "name": "python3"
  },
  "language_info": {
   "codemirror_mode": {
    "name": "ipython",
    "version": 3
   },
   "file_extension": ".py",
   "mimetype": "text/x-python",
   "name": "python",
   "nbconvert_exporter": "python",
   "pygments_lexer": "ipython3",
   "version": "3.8.2"
  },
  "toc": {
   "base_numbering": 1,
   "nav_menu": {},
   "number_sections": true,
   "sideBar": true,
   "skip_h1_title": true,
   "title_cell": "Table of Contents",
   "title_sidebar": "Contents",
   "toc_cell": true,
   "toc_position": {
    "height": "calc(100% - 180px)",
    "left": "10px",
    "top": "150px",
    "width": "165px"
   },
   "toc_section_display": true,
   "toc_window_display": true
  }
 },
 "nbformat": 4,
 "nbformat_minor": 5
}
